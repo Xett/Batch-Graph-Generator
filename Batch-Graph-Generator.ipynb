{
 "cells": [
  {
   "cell_type": "markdown",
   "metadata": {},
   "source": [
    "\"\"\" Title: Batch Graph Generator\n",
    "Author: Jones, Ethan\n",
    "Date: 2019\n",
    "Code version: 1.0\n",
    "Availability: https://www.github.com/Xett/Batch-Graph-Generator \"\"\""
   ]
  },
  {
   "cell_type": "markdown",
   "metadata": {},
   "source": [
    "# System"
   ]
  },
  {
   "cell_type": "markdown",
   "metadata": {},
   "source": [
    "## Imports"
   ]
  },
  {
   "cell_type": "code",
   "execution_count": null,
   "metadata": {},
   "outputs": [],
   "source": [
    "import numpy as np\n",
    "import pandas as pd\n",
    "import seaborn as sns\n",
    "import matplotlib.pyplot as plt"
   ]
  },
  {
   "cell_type": "markdown",
   "metadata": {},
   "source": [
    "## Function Definitions"
   ]
  },
  {
   "cell_type": "code",
   "execution_count": null,
   "metadata": {},
   "outputs": [],
   "source": [
    "def bargraph(x,y,hue,data,title,xlabel,ylabel):\n",
    "    sns.set(style=\"whitegrid\",font_scale=1.25)\n",
    "    outgraph=sns.catplot(x=x,y=y,hue=hue,data=data,height=6,kind=\"bar\",palette=\"muted\")\n",
    "    outgraph.fig.suptitle(title,y=1.1,fontsize=22)\n",
    "    outgraph.despine(left=True)\n",
    "    outgraph.set_xlabels(xlabel)\n",
    "    outgraph.set_ylabels(ylabel)\n",
    "    return outgraph"
   ]
  },
  {
   "cell_type": "code",
   "execution_count": null,
   "metadata": {},
   "outputs": [],
   "source": [
    "def loadData(dataFileName,columnNames,dataCleanDict):\n",
    "    data=pd.ExcelFile(dataFileName+'.xlsx')\n",
    "    sheets={}\n",
    "    for sheet in sheetNames:\n",
    "        sheets[sheet]=data.parse(sheet, header=1)\n",
    "        for key,value in dataCleanDict.items():\n",
    "            sheets[sheet]=sheets[sheet].replace(key,value)\n",
    "    return sheets"
   ]
  },
  {
   "cell_type": "code",
   "execution_count": null,
   "metadata": {},
   "outputs": [],
   "source": [
    "def formatTitle(string,i):\n",
    "    return \"Figure {}: {}\".format(i,string)"
   ]
  },
  {
   "cell_type": "code",
   "execution_count": null,
   "metadata": {},
   "outputs": [],
   "source": [
    "def createGraphDef(title,xlabel,ylabel,data,x,y,hue):\n",
    "    return [title,[xlabel,ylabel],data,[x,y],hue]"
   ]
  },
  {
   "cell_type": "code",
   "execution_count": null,
   "metadata": {},
   "outputs": [],
   "source": [
    "def splitByColumnValue(data,columnName):\n",
    "    datasets=[]\n",
    "    for value in data[columnName].unique():\n",
    "        datasets.append(data[data[columnName]==value])\n",
    "    return datasets"
   ]
  },
  {
   "cell_type": "code",
   "execution_count": null,
   "metadata": {},
   "outputs": [],
   "source": [
    "def createSetGraphDefs(titles,xlabel,ylabel,x,y,datas,hue):\n",
    "    sets=[]\n",
    "    for i in range(len(datas)):\n",
    "        graphDef=createGraphDef(titles[i],\n",
    "                                xlabel,\n",
    "                                ylabel,\n",
    "                                datas[i],\n",
    "                                x,\n",
    "                                y,\n",
    "                                hue)\n",
    "        sets.append(graphDef)\n",
    "    return sets"
   ]
  },
  {
   "cell_type": "code",
   "execution_count": null,
   "metadata": {},
   "outputs": [],
   "source": [
    "def selectByValue(data,columnName,value):\n",
    "    if type(value)==type([]):\n",
    "        output=data.iloc[0:0]\n",
    "        for v in value:\n",
    "            output=pd.concat([output,data[data[columnName]==v]])\n",
    "        return output\n",
    "    else:\n",
    "        return data[data[columnName]==value]"
   ]
  },
  {
   "cell_type": "code",
   "execution_count": null,
   "metadata": {},
   "outputs": [],
   "source": [
    "def reduceDatasetForGraph(data,x,y,hue):\n",
    "    columnsToDrop=columnNames\n",
    "    columnsToDrop.remove(x)\n",
    "    columnsToDrop.remove(y)\n",
    "    columnsToDrop.remove(hue)\n",
    "    return data.drop(columns=columnsToDrop)"
   ]
  },
  {
   "cell_type": "markdown",
   "metadata": {},
   "source": [
    "# Work"
   ]
  },
  {
   "cell_type": "markdown",
   "metadata": {},
   "source": [
    "## Variables"
   ]
  },
  {
   "cell_type": "code",
   "execution_count": null,
   "metadata": {},
   "outputs": [],
   "source": [
    "datasetFileName=''\n",
    "columnNames=[]\n",
    "sheetNames=[]\n",
    "dataCleanDict={}"
   ]
  },
  {
   "cell_type": "markdown",
   "metadata": {},
   "source": [
    "## Load Dataset/s"
   ]
  },
  {
   "cell_type": "code",
   "execution_count": null,
   "metadata": {},
   "outputs": [],
   "source": [
    "data=loadData(datasetFileName,columnNames,dataCleanDict)\n",
    "dataset=pd.DataFrame(columns=columnNames)\n",
    "for name in sheetNames:\n",
    "    dataset=pd.concat([dataset,data[name]],sort=False)"
   ]
  },
  {
   "cell_type": "markdown",
   "metadata": {},
   "source": [
    "## Create Graph Datasets"
   ]
  },
  {
   "cell_type": "code",
   "execution_count": null,
   "metadata": {},
   "outputs": [],
   "source": [
    "data=selectByValue(dataset,\"\",\"\")\n",
    "datas=splitByColumnValue(data,\"\")"
   ]
  },
  {
   "cell_type": "markdown",
   "metadata": {},
   "source": [
    "## Create Graph Definitions"
   ]
  },
  {
   "cell_type": "code",
   "execution_count": null,
   "metadata": {},
   "outputs": [],
   "source": [
    "titles=[]\n",
    "xlabel=\"\"\n",
    "ylabel=\"\"\n",
    "x=\"\"\n",
    "y=\"\"\n",
    "hue=\"\"\n",
    "\n",
    "graphDefs=createSetGraphDefs(titles,\n",
    "                             xlabel,\n",
    "                             ylabel,\n",
    "                             x,\n",
    "                             y,\n",
    "                             datas,\n",
    "                             hue)"
   ]
  },
  {
   "cell_type": "markdown",
   "metadata": {},
   "source": [
    "## Combine all Graph Definitions"
   ]
  },
  {
   "cell_type": "code",
   "execution_count": null,
   "metadata": {},
   "outputs": [],
   "source": [
    "graphDefs="
   ]
  },
  {
   "cell_type": "markdown",
   "metadata": {},
   "source": [
    "## Create Graphs"
   ]
  },
  {
   "cell_type": "code",
   "execution_count": null,
   "metadata": {},
   "outputs": [],
   "source": [
    "graphs=[]\n",
    "for i in range(len(graphDefs)):\n",
    "    title=formatTitle(graphDefs[i][0],i+1)\n",
    "    xlabel=graphDefs[i][1][0]\n",
    "    ylabel=graphDefs[i][1][1]\n",
    "    data=graphDefs[i][2]\n",
    "    x=graphDefs[i][3][0]\n",
    "    y=graphDefs[i][3][1]\n",
    "    hue=graphDefs[i][4]\n",
    "    graph=bargraph(x,y,hue,data,title,xlabel,ylabel)\n",
    "    graphs.append(graph)"
   ]
  },
  {
   "cell_type": "markdown",
   "metadata": {},
   "source": [
    "## Save Graphs"
   ]
  },
  {
   "cell_type": "code",
   "execution_count": null,
   "metadata": {},
   "outputs": [],
   "source": [
    "for i in range(len(graphs)):\n",
    "    graphs[i].savefig(str((i+1))+'.png')"
   ]
  }
 ],
 "metadata": {
  "kernelspec": {
   "display_name": "Python 3",
   "language": "python",
   "name": "python3"
  },
  "language_info": {
   "codemirror_mode": {
    "name": "ipython",
    "version": 3
   },
   "file_extension": ".py",
   "mimetype": "text/x-python",
   "name": "python",
   "nbconvert_exporter": "python",
   "pygments_lexer": "ipython3",
   "version": "3.7.3"
  }
 },
 "nbformat": 4,
 "nbformat_minor": 2
}
